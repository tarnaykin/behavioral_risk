{
 "cells": [
  {
   "cell_type": "code",
   "execution_count": 119,
   "metadata": {},
   "outputs": [],
   "source": [
    "import math\n",
    "import pandas as pd\n",
    "import numpy as np\n",
    "from sklearn.metrics.pairwise import cosine_similarity, cosine_distances\n",
    "# dataset: \n",
    "# https://chronicdata.cdc.gov/Behavioral-Risk-Factors/Behavioral-Risk-Factor-Surveillance-System-BRFSS-P/\n",
    "df = pd.read_csv('Behavioral_Risk.csv')\n",
    "\n",
    "# we drop columns that have more than 50% of data missing\n",
    "drop_cols = ['Data_Value_Footnote_Symbol', 'Data_Value_Footnote', 'DataSource', 'Data_value_unit', 'Data_value_type', 'QuestionID', 'ResponseID', 'LocationID', 'TopicId', 'ClassId', 'BreakoutID', 'BreakOutCategoryID', 'Display_order']\n",
    "\n",
    "df.drop(axis=1, columns=drop_cols, inplace=True)\n",
    "# irrelevant fields\n",
    "\n",
    "df.drop(axis=1, columns=['Year', 'GeoLocation'], inplace=True)\n",
    "\n",
    "# fill missing values with median values\n",
    "\n",
    "nul_cols = ['Data_value', 'Confidence_limit_Low', 'Confidence_limit_High']\n",
    "\n",
    "for col in nul_cols:\n",
    "    df[col].fillna(df[col].mean(), inplace=True)\n"
   ]
  },
  {
   "cell_type": "code",
   "execution_count": 120,
   "metadata": {},
   "outputs": [
    {
     "data": {
      "text/plain": [
       "array(['Alcohol Consumption', 'Demographics', 'Cholesterol Awareness',\n",
       "       'Chronic Health Indicators', 'Health Care Access/Coverage',\n",
       "       'Health Status', 'Hypertension Awareness', 'Immunization',\n",
       "       'Injury', 'Overweight and Obesity (BMI)', 'Physical Activity',\n",
       "       'Tobacco Use', 'Colorectal Cancer Screening', 'Oral Health',\n",
       "       'Prostate Cancer', \"Women's Health\", 'Fruits and Vegetables',\n",
       "       'HIV-AIDS', 'E-Cigarette Use'], dtype=object)"
      ]
     },
     "execution_count": 120,
     "metadata": {},
     "output_type": "execute_result"
    }
   ],
   "source": [
    "df['Class'].unique()"
   ]
  },
  {
   "cell_type": "code",
   "execution_count": 121,
   "metadata": {},
   "outputs": [
    {
     "data": {
      "text/plain": [
       "array(['Alabama', 'Alaska', 'Arizona', 'Arkansas', 'California',\n",
       "       'Connecticut', 'Colorado', 'Delaware', 'Florida', 'Georgia',\n",
       "       'District of Columbia', 'Hawaii', 'Idaho', 'Illinois', 'Indiana',\n",
       "       'Iowa', 'Kansas', 'Kentucky', 'Louisiana', 'Maine', 'Maryland',\n",
       "       'Massachusetts', 'Michigan', 'Minnesota', 'Mississippi',\n",
       "       'Missouri', 'Nebraska', 'Montana', 'Nevada', 'New Hampshire',\n",
       "       'New Jersey', 'New Mexico', 'North Carolina', 'Ohio', 'New York',\n",
       "       'North Dakota', 'Oklahoma', 'Oregon', 'Pennsylvania',\n",
       "       'South Carolina', 'South Dakota', 'Rhode Island', 'Tennessee',\n",
       "       'Texas', 'Utah', 'Virginia', 'Washington', 'Vermont',\n",
       "       'West Virginia', 'Wisconsin', 'Wyoming', 'Guam',\n",
       "       'All States and DC (median) **', 'Puerto Rico',\n",
       "       'All States, DC and Territories (median) **', 'Virgin Islands'],\n",
       "      dtype=object)"
      ]
     },
     "execution_count": 121,
     "metadata": {},
     "output_type": "execute_result"
    }
   ],
   "source": [
    "df['Locationdesc'].unique()"
   ]
  },
  {
   "cell_type": "code",
   "execution_count": 216,
   "metadata": {},
   "outputs": [],
   "source": [
    "def choose_data(df, location, topic):\n",
    "\n",
    "    result = pd.DataFrame(df.loc[df['Locationdesc']==location])\n",
    "    result = pd.DataFrame(result.loc[result['Class']==topic])\n",
    "    result.drop(axis=1, columns=['Locationabbr', 'Locationdesc', 'Class', 'Topic'], inplace=True)\n",
    "    result.drop(axis=1, columns=['Data_value', 'Confidence_limit_Low', 'Confidence_limit_High'], inplace=True)\n",
    "    result = pd.DataFrame(result.groupby(['Question', 'Break_Out_Category', 'Break_Out', 'Response']).sum())\n",
    "    result.to_csv('tmp.csv')\n",
    "    result = pd.read_csv('tmp.csv')\n",
    "    return result"
   ]
  },
  {
   "cell_type": "code",
   "execution_count": 135,
   "metadata": {},
   "outputs": [],
   "source": [
    "#TODO\n",
    "#calculate data value for every break out category\n",
    "def data_calculator(df):\n",
    "    \n",
    "    n_people = pd.DataFrame(df.groupby(['Question', 'Break_Out_Category']).sum())\n",
    "    n_people.to_csv('n_people.csv')\n",
    "    n_people = pd.read_csv('n_people.csv')\n",
    "    j = 0\n",
    "    while j<n_people.shape[0]:\n",
    "        for i in range(df.shape[0]):\n",
    "            if df.at[i, 'Question']==n_people.at[j, 'Question'] and df.at[i, 'Break_Out_Category']==n_people.at[j, 'Break_Out_Category']:\n",
    "                df.at[i, 'Data_value'] = df.at[i, 'Sample_Size'] / n_people.at[j, 'Sample_Size'] * 100\n",
    "        j+=1\n",
    "    return df"
   ]
  },
  {
   "cell_type": "code",
   "execution_count": 268,
   "metadata": {},
   "outputs": [],
   "source": [
    "def reformat_df(df):\n",
    "    \n",
    "    result = df.reset_index().pivot_table(index='Break_Out', columns=['Question', 'Response'], values=['Data_value'])\n",
    "    result.to_csv('tmp.csv')\n",
    "    result = pd.read_csv('tmp.csv', index_col=0, header=0)\n",
    "    result.drop(['Question', 'Response', 'Break_Out'], inplace=True)\n",
    "    result.astype(float, inplace=True)\n",
    "    #for col in result:\n",
    "        #result[col].fillna(value = result[col].mean(), inplace=True)\n",
    "    #result.fillna(value=0, inplace=True)\n",
    "    return result"
   ]
  },
  {
   "cell_type": "code",
   "execution_count": 263,
   "metadata": {},
   "outputs": [],
   "source": [
    "def load_data(df, location, topic):\n",
    "    data = choose_data(df, location, topic)\n",
    "    data = data_calculator(data)\n",
    "    data = reformat_df(data)\n",
    "    return data"
   ]
  },
  {
   "cell_type": "code",
   "execution_count": 264,
   "metadata": {},
   "outputs": [],
   "source": [
    "def calculate_cosine_similarity(df1, df2):\n",
    "    \n",
    "    X = df1.values\n",
    "    Y = df2.values\n",
    "    X = X.astype(float)\n",
    "    Y = Y.astype(float)\n",
    "    cos_sim = cosine_similarity(X.reshape(1, -1), Y.reshape(1, -1))\n",
    "    return 1 - cos_sim"
   ]
  },
  {
   "cell_type": "code",
   "execution_count": 274,
   "metadata": {},
   "outputs": [
    {
     "name": "stdout",
     "output_type": "stream",
     "text": [
      "<class 'pandas.core.frame.DataFrame'>\n",
      "Index: 36 entries, $15,000-$24,999 to White, non-Hispanic\n",
      "Data columns (total 10 columns):\n",
      "Data_value      22 non-null object\n",
      "Data_value.1    22 non-null object\n",
      "Data_value.2    25 non-null object\n",
      "Data_value.3    25 non-null object\n",
      "Data_value.4    24 non-null object\n",
      "Data_value.5    24 non-null object\n",
      "Data_value.6    19 non-null object\n",
      "Data_value.7    19 non-null object\n",
      "Data_value.8    23 non-null object\n",
      "Data_value.9    23 non-null object\n",
      "dtypes: object(10)\n",
      "memory usage: 3.1+ KB\n"
     ]
    }
   ],
   "source": [
    "whealth_ny = load_data(df, 'New York', 'Women\\'s Health')\n",
    "whealth_texas = load_data(df, 'New York', 'Women\\'s Health')\n",
    "whealth_ny.info()"
   ]
  },
  {
   "cell_type": "code",
   "execution_count": 228,
   "metadata": {},
   "outputs": [
    {
     "data": {
      "text/plain": [
       "array([[-2.22044605e-16]])"
      ]
     },
     "execution_count": 228,
     "metadata": {},
     "output_type": "execute_result"
    }
   ],
   "source": [
    "calculate_cosine_similarity(whealth_ny, whealth_texas)"
   ]
  },
  {
   "cell_type": "code",
   "execution_count": 183,
   "metadata": {},
   "outputs": [
    {
     "data": {
      "image/png": "[encoded data removed]",
      "text/plain": [
       "<Figure size 432x288 with 1 Axes>"
      ]
     },
     "metadata": {},
     "output_type": "display_data"
    }
   ],
   "source": [
    "from sklearn.cluster import DBSCAN\n",
    "\n",
    "X = ny_alabama.values\n",
    "reduced_data = PCA(n_components=2).fit_transform(X)\n",
    "n_clusters_ = len(set(labels)) - (1 if -1 in labels else 0)\n",
    "\n",
    "db = DBSCAN(eps=4.9).fit(reduced_data)\n",
    "core_samples_mask = np.zeros_like(db.labels_, dtype=bool)\n",
    "core_samples_mask[db.core_sample_indices_] = True\n",
    "labels = db.labels_\n",
    "\n",
    "unique_labels = set(labels)\n",
    "colors = [plt.cm.Spectral(each)\n",
    "          for each in np.linspace(0, 1, len(unique_labels))]\n",
    "for k, col in zip(unique_labels, colors):\n",
    "    if k == -1:\n",
    "        # Black used for noise.\n",
    "        col = [0, 0, 0, 1]\n",
    "\n",
    "    class_member_mask = (labels == k)\n",
    "\n",
    "    xy = reduced_data[class_member_mask & core_samples_mask]\n",
    "    plt.plot(xy[:, 0], xy[:, 1], 'o', markerfacecolor=tuple(col),\n",
    "             markeredgecolor='k', markersize=14)\n",
    "\n",
    "    xy = reduced_data[class_member_mask & ~core_samples_mask]\n",
    "    plt.plot(xy[:, 0], xy[:, 1], 'o', markerfacecolor=tuple(col),\n",
    "             markeredgecolor='k', markersize=6)\n",
    "\n",
    "plt.title('Estimated number of clusters: %d' % n_clusters_)\n",
    "plt.show()"
   ]
  },
  {
   "cell_type": "code",
   "execution_count": 138,
   "metadata": {},
   "outputs": [],
   "source": [
    "# tobacco use array for all states\n",
    "tobacco_use_general = []\n",
    "for state in df['Locationdesc'].unique():\n",
    "    tmp = choose_data(state, 'Tobacco Use')\n",
    "    tmp = data_calculator(tmp)\n",
    "    tmp = reformat_df(tmp)\n",
    "    tobacco_use_general.append(tmp)\n",
    "    "
   ]
  },
  {
   "cell_type": "code",
   "execution_count": 139,
   "metadata": {},
   "outputs": [],
   "source": [
    "tobacco_data = pd.concat(tobacco_use_general)"
   ]
  },
  {
   "cell_type": "code",
   "execution_count": 140,
   "metadata": {},
   "outputs": [
    {
     "data": {
      "text/html": [
       "<div>\n",
       "<style scoped>\n",
       "    .dataframe tbody tr th:only-of-type {\n",
       "        vertical-align: middle;\n",
       "    }\n",
       "\n",
       "    .dataframe tbody tr th {\n",
       "        vertical-align: top;\n",
       "    }\n",
       "\n",
       "    .dataframe thead th {\n",
       "        text-align: right;\n",
       "    }\n",
       "</style>\n",
       "<table border=\"1\" class=\"dataframe\">\n",
       "  <thead>\n",
       "    <tr style=\"text-align: right;\">\n",
       "      <th></th>\n",
       "      <th>Data_value</th>\n",
       "      <th>Data_value.1</th>\n",
       "      <th>Data_value.2</th>\n",
       "      <th>Data_value.3</th>\n",
       "      <th>Data_value.4</th>\n",
       "      <th>Data_value.5</th>\n",
       "      <th>Data_value.6</th>\n",
       "      <th>Data_value.7</th>\n",
       "      <th>Data_value.8</th>\n",
       "    </tr>\n",
       "  </thead>\n",
       "  <tbody>\n",
       "    <tr>\n",
       "      <th>$15,000-$24,999</th>\n",
       "      <td>16.406334450329695</td>\n",
       "      <td>5.2102475408063995</td>\n",
       "      <td>0.5182447644535066</td>\n",
       "      <td>20.203049997876047</td>\n",
       "      <td>0.4162949747249479</td>\n",
       "      <td>5.539941627932116</td>\n",
       "      <td>10.866392822397579</td>\n",
       "      <td>3.826613339098476</td>\n",
       "      <td>1.3836342017079235</td>\n",
       "    </tr>\n",
       "    <tr>\n",
       "      <th>$25,000-$34,999</th>\n",
       "      <td>9.488163441790077</td>\n",
       "      <td>2.329477894281699</td>\n",
       "      <td>0.3313368166178157</td>\n",
       "      <td>10.938362856293276</td>\n",
       "      <td>0.19540376364640416</td>\n",
       "      <td>3.2509998919035783</td>\n",
       "      <td>6.237163549886499</td>\n",
       "      <td>1.721435520484272</td>\n",
       "      <td>0.6080423737974273</td>\n",
       "    </tr>\n",
       "    <tr>\n",
       "      <th>$35,000-$49,999</th>\n",
       "      <td>11.669008755810182</td>\n",
       "      <td>2.348394768133175</td>\n",
       "      <td>0.41204706681959136</td>\n",
       "      <td>13.257720572617988</td>\n",
       "      <td>0.19965167155176078</td>\n",
       "      <td>4.145497784023349</td>\n",
       "      <td>7.523510971786834</td>\n",
       "      <td>1.6890065938817427</td>\n",
       "      <td>0.6593881742514323</td>\n",
       "    </tr>\n",
       "    <tr>\n",
       "      <th>$50,000+</th>\n",
       "      <td>31.50740460490758</td>\n",
       "      <td>4.272511079883256</td>\n",
       "      <td>1.159678858162355</td>\n",
       "      <td>35.53374962830806</td>\n",
       "      <td>0.700904804383841</td>\n",
       "      <td>10.042157604583288</td>\n",
       "      <td>21.46524700032429</td>\n",
       "      <td>3.0888552588909306</td>\n",
       "      <td>1.1836558209923251</td>\n",
       "    </tr>\n",
       "    <tr>\n",
       "      <th>18-24</th>\n",
       "      <td>4.057628823156468</td>\n",
       "      <td>1.0778076561509369</td>\n",
       "      <td>0.18787361229718189</td>\n",
       "      <td>5.024765157984628</td>\n",
       "      <td>0.2049530315969257</td>\n",
       "      <td>0.3476093657768741</td>\n",
       "      <td>3.7100194573795937</td>\n",
       "      <td>0.7301982903740627</td>\n",
       "      <td>0.3476093657768741</td>\n",
       "    </tr>\n",
       "  </tbody>\n",
       "</table>\n",
       "</div>"
      ],
      "text/plain": [
       "                         Data_value        Data_value.1         Data_value.2  \\\n",
       "$15,000-$24,999  16.406334450329695  5.2102475408063995   0.5182447644535066   \n",
       "$25,000-$34,999   9.488163441790077   2.329477894281699   0.3313368166178157   \n",
       "$35,000-$49,999  11.669008755810182   2.348394768133175  0.41204706681959136   \n",
       "$50,000+          31.50740460490758   4.272511079883256    1.159678858162355   \n",
       "18-24             4.057628823156468  1.0778076561509369  0.18787361229718189   \n",
       "\n",
       "                       Data_value.3         Data_value.4        Data_value.5  \\\n",
       "$15,000-$24,999  20.203049997876047   0.4162949747249479   5.539941627932116   \n",
       "$25,000-$34,999  10.938362856293276  0.19540376364640416  3.2509998919035783   \n",
       "$35,000-$49,999  13.257720572617988  0.19965167155176078   4.145497784023349   \n",
       "$50,000+          35.53374962830806    0.700904804383841  10.042157604583288   \n",
       "18-24             5.024765157984628   0.2049530315969257  0.3476093657768741   \n",
       "\n",
       "                       Data_value.6        Data_value.7        Data_value.8  \n",
       "$15,000-$24,999  10.866392822397579   3.826613339098476  1.3836342017079235  \n",
       "$25,000-$34,999   6.237163549886499   1.721435520484272  0.6080423737974273  \n",
       "$35,000-$49,999   7.523510971786834  1.6890065938817427  0.6593881742514323  \n",
       "$50,000+          21.46524700032429  3.0888552588909306  1.1836558209923251  \n",
       "18-24            3.7100194573795937  0.7301982903740627  0.3476093657768741  "
      ]
     },
     "execution_count": 140,
     "metadata": {},
     "output_type": "execute_result"
    }
   ],
   "source": [
    "tobacco_data.head()"
   ]
  },
  {
   "cell_type": "code",
   "execution_count": 189,
   "metadata": {},
   "outputs": [
    {
     "data": {
      "image/png": "[encoded data removed]",
      "text/plain": [
       "<Figure size 432x288 with 1 Axes>"
      ]
     },
     "metadata": {},
     "output_type": "display_data"
    }
   ],
   "source": [
    "from sklearn.cluster import DBSCAN\n",
    "\n",
    "X = tobacco_data.values\n",
    "reduced_data = PCA(n_components=2).fit_transform(X)\n",
    "n_clusters_ = len(set(labels)) - (1 if -1 in labels else 0)\n",
    "\n",
    "db = DBSCAN(eps=2.5).fit(reduced_data)\n",
    "core_samples_mask = np.zeros_like(db.labels_, dtype=bool)\n",
    "core_samples_mask[db.core_sample_indices_] = True\n",
    "labels = db.labels_\n",
    "\n",
    "unique_labels = set(labels)\n",
    "colors = [plt.cm.Spectral(each)\n",
    "          for each in np.linspace(0, 1, len(unique_labels))]\n",
    "for k, col in zip(unique_labels, colors):\n",
    "    if k == -1:\n",
    "        # Black used for noise.\n",
    "        col = [0, 0, 0, 1]\n",
    "\n",
    "    class_member_mask = (labels == k)\n",
    "\n",
    "    xy = reduced_data[class_member_mask & core_samples_mask]\n",
    "    plt.plot(xy[:, 0], xy[:, 1], 'o', markerfacecolor=tuple(col),\n",
    "             markeredgecolor='k', markersize=14)\n",
    "\n",
    "    xy = reduced_data[class_member_mask & ~core_samples_mask]\n",
    "    plt.plot(xy[:, 0], xy[:, 1], 'o', markerfacecolor=tuple(col),\n",
    "             markeredgecolor='k', markersize=6)\n",
    "\n",
    "plt.title('Estimated number of clusters: %d' % n_clusters_)\n",
    "plt.show()"
   ]
  },
  {
   "cell_type": "code",
   "execution_count": null,
   "metadata": {},
   "outputs": [],
   "source": []
  }
 ],
 "metadata": {
  "kernelspec": {
   "display_name": "Python 3",
   "language": "python",
   "name": "python3"
  },
  "language_info": {
   "codemirror_mode": {
    "name": "ipython",
    "version": 3
   },
   "file_extension": ".py",
   "mimetype": "text/x-python",
   "name": "python",
   "nbconvert_exporter": "python",
   "pygments_lexer": "ipython3",
   "version": "3.6.5"
  }
 },
 "nbformat": 4,
 "nbformat_minor": 2
}
